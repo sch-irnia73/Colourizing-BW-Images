{
 "cells": [
  {
   "cell_type": "code",
   "execution_count": 1,
   "id": "17ccb35f",
   "metadata": {},
   "outputs": [],
   "source": [
    "import os\n",
    "import numpy as np\n",
    "import torch\n",
    "from torchvision.datasets import CIFAR10\n",
    "from matplotlib import pyplot as plt"
   ]
  },
  {
   "cell_type": "code",
   "execution_count": 2,
   "id": "ead7f561",
   "metadata": {},
   "outputs": [
    {
     "name": "stdout",
     "output_type": "stream",
     "text": [
      "False\n"
     ]
    }
   ],
   "source": [
    "download = not os.path.isdir('cifar-10-batches-py')\n",
    "print(download)\n",
    "d_train = CIFAR10(root='.', download=download, train=True)\n",
    "d_test = CIFAR10(root='.', train=False)\n",
    "\n",
    "x_train, y_train = d_train.data, d_train.targets\n",
    "x_test, y_test = d_test.data, d_train.targets"
   ]
  },
  {
   "cell_type": "code",
   "execution_count": 3,
   "id": "7165dc02",
   "metadata": {},
   "outputs": [],
   "source": [
    "num_train, num_test = 50000, 10000\n",
    "height, width = 32, 32"
   ]
  },
  {
   "cell_type": "code",
   "execution_count": 10,
   "id": "db9eaf16",
   "metadata": {},
   "outputs": [],
   "source": [
    "def gray_images_YCrCb(dset, index):\n",
    "    images = []\n",
    "    \n",
    "    image = np.zeros((height, width), dtype=np.uint8)\n",
    "    for i in dset:\n",
    "        \n",
    "        red = i[:,:,0]\n",
    "        green = i[:, :, 1]\n",
    "        blue = i[:, :, 2]\n",
    "\n",
    "        image = 0.3*red + 0.59*green + 0.11*blue\n",
    "        \n",
    "        images.append(image)\n",
    "    \n",
    "    return images\n",
    "\n",
    "def gray_images_HSI(dset, index):\n",
    "    images = []\n",
    "    \n",
    "    image = np.zeros((height, width), dtype=np.uint8)\n",
    "    for i in dset:\n",
    "        \n",
    "        red = i[:,:,0]\n",
    "        green = i[:, :, 1]\n",
    "        blue = i[:, :, 2]\n",
    "\n",
    "        image = (red + green + blue)/3\n",
    "        \n",
    "        images.append(image)\n",
    "    \n",
    "    return images\n",
    "\n",
    "def gray_images_HSL(dset, index):\n",
    "    images = []\n",
    "    \n",
    "    image = np.zeros((height, width), dtype=np.uint8)\n",
    "    for i in dset:\n",
    "        \n",
    "        for k in range(height):\n",
    "            for j in range(width):\n",
    "                red = i[k, j, 0]\n",
    "                green = i[k, j, 1]\n",
    "                blue = i[k, j, 2]\n",
    "\n",
    "                max_rgb = max(red, green, blue)\n",
    "                min_rgb = min(red, green, blue)\n",
    "                image[k, j] = (max_rgb+min_rgb)/2\n",
    "        \n",
    "        images.append(image)\n",
    "    \n",
    "    return images\n",
    "\n",
    "\n",
    "def gray_images_HSV(dset, index):\n",
    "    images = []\n",
    "    \n",
    "    image = np.zeros((height, width), dtype=np.uint8)\n",
    "    H = np.zeros((height, width), dtype=np.uint8)\n",
    "    S = np.zeros((height, width), dtype=np.uint8)\n",
    "    V = np.zeros((height, width), dtype=np.uint8)\n",
    "    for i in dset:\n",
    "        \n",
    "        for k in range(height):\n",
    "            for j in range(width):\n",
    "                red = i[k, j,0]/100\n",
    "                green = i[k, j, 1]/100\n",
    "                blue = i[k, j, 2]/100\n",
    "\n",
    "\n",
    "                min_rgb = min(red, green, blue)\n",
    "                max_rgb = max(red, green, blue)\n",
    "\n",
    "                V = max_rgb*100\n",
    "                S = 0.0 if (max_rgb == 0) else (1 - (min_rgb/max_rgb))*100\n",
    "\n",
    "                if(max_rgb == min_rgb): H = 0\n",
    "                elif (max_rgb == red and green >= blue): H = 60*((green - blue)/(max_rgb - min_rgb))\n",
    "                elif (max_rgb == red and green < blue): H = 60*((green - blue)/(max_rgb - min_rgb)) + 360\n",
    "                elif (max_rgb == green): H = 60*((blue - red)/(max_rgb - min_rgb)) + 120\n",
    "                elif (max_rgb == blue): H = 60*((red - green)/(max_rgb - min_rgb)) + 240\n",
    "\n",
    "                image[k][j] = (H + S + V)/3\n",
    "        \n",
    "        images.append(image)\n",
    "    \n",
    "    return images"
   ]
  },
  {
   "cell_type": "code",
   "execution_count": null,
   "id": "045cd0a4",
   "metadata": {},
   "outputs": [],
   "source": [
    "a, b, c = 3.0, 3.1, 3.2\n",
    "print(max(a, b, c))"
   ]
  },
  {
   "cell_type": "code",
   "execution_count": null,
   "id": "b0b2647f",
   "metadata": {},
   "outputs": [],
   "source": []
  }
 ],
 "metadata": {
  "kernelspec": {
   "display_name": "Python 3 (ipykernel)",
   "language": "python",
   "name": "python3"
  },
  "language_info": {
   "codemirror_mode": {
    "name": "ipython",
    "version": 3
   },
   "file_extension": ".py",
   "mimetype": "text/x-python",
   "name": "python",
   "nbconvert_exporter": "python",
   "pygments_lexer": "ipython3",
   "version": "3.10.9"
  }
 },
 "nbformat": 4,
 "nbformat_minor": 5
}
