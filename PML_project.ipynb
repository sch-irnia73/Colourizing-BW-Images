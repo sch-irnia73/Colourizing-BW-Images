{
 "cells": [
  {
   "cell_type": "code",
   "execution_count": 46,
   "id": "17ccb35f",
   "metadata": {},
   "outputs": [],
   "source": [
    "import os\n",
    "import numpy as np\n",
    "import torch\n",
    "from torchvision.datasets import CIFAR10\n",
    "from matplotlib import pyplot as plt\n",
    "import cv2"
   ]
  },
  {
   "cell_type": "code",
   "execution_count": 47,
   "id": "ead7f561",
   "metadata": {},
   "outputs": [
    {
     "name": "stdout",
     "output_type": "stream",
     "text": [
      "False\n"
     ]
    }
   ],
   "source": [
    "download = not os.path.isdir('cifar-10-batches-py')\n",
    "print(download)\n",
    "d_train = CIFAR10(root='.', download=download, train=True)\n",
    "d_test = CIFAR10(root='.', train=False)\n",
    "\n",
    "x_train, y_train = d_train.data, d_train.targets\n",
    "x_test, y_test = d_test.data, d_train.targets"
   ]
  },
  {
   "cell_type": "code",
   "execution_count": 48,
   "id": "7165dc02",
   "metadata": {},
   "outputs": [
    {
     "name": "stdout",
     "output_type": "stream",
     "text": [
      "(50000, 32, 32, 3)\n"
     ]
    }
   ],
   "source": [
    "num_train, num_test = 50000, 10000\n",
    "height, width = 32, 32\n",
    "print(x_train.shape)"
   ]
  },
  {
   "cell_type": "code",
   "execution_count": 61,
   "id": "db9eaf16",
   "metadata": {},
   "outputs": [],
   "source": [
    "def gray_images_YCrCb(dset, index):\n",
    "    images = []\n",
    "    \n",
    "    image = np.zeros((height, width), dtype=np.uint8)\n",
    "    for i in dset:\n",
    "        \n",
    "        red = i[:,:,0]\n",
    "        green = i[:, :, 1]\n",
    "        blue = i[:, :, 2]\n",
    "\n",
    "        image = 0.3*red + 0.59*green + 0.11*blue\n",
    "        \n",
    "        images.append(image)\n",
    "    \n",
    "    return images\n",
    "\n",
    "def gray_images_HSI(dset, index):\n",
    "    images = []\n",
    "    \n",
    "    image = np.zeros((height, width), dtype=np.uint8)\n",
    "    for i in dset:\n",
    "        \n",
    "        red = i[:,:,0]\n",
    "        green = i[:, :, 1]\n",
    "        blue = i[:, :, 2]\n",
    "\n",
    "        image = (red + green + blue)/3\n",
    "        \n",
    "        images.append(image)\n",
    "    \n",
    "    return images\n",
    "\n",
    "def gray_images_HSL(i, index):\n",
    "    \n",
    "    image = np.zeros((height, width), dtype=np.uint8)        \n",
    "    for k in range(height):\n",
    "        for j in range(width):\n",
    "            red = i[k][j][0]\n",
    "            green = i[k][j][1]\n",
    "            blue = i[k][j][2]\n",
    "\n",
    "            max_rgb = max(red, green, blue)\n",
    "            min_rgb = min(red, green, blue)\n",
    "            image[k][j] = (max_rgb+min_rgb)/2\n",
    "    \n",
    "    return image\n",
    "\n",
    "\n",
    "def gray_images_HSV(i, index):\n",
    "    \n",
    "    image = np.zeros((height, width), dtype=np.uint8)\n",
    "        \n",
    "    for k in range(height):\n",
    "        for j in range(width):\n",
    "            H = 0.0\n",
    "            S = 0.0\n",
    "            V = 0.0\n",
    "            red = i[k, j, 0]/100\n",
    "            green = i[k, j, 1]/100\n",
    "            blue = i[k, j, 2]/100\n",
    "\n",
    "\n",
    "            min_rgb = min(red, green, blue)\n",
    "            max_rgb = max(red, green, blue)\n",
    "\n",
    "            V = max_rgb*100\n",
    "            S = 0.0 if (max_rgb == 0) else (1 - (min_rgb/max_rgb))*100\n",
    "\n",
    "            if(max_rgb == min_rgb): H = 0\n",
    "            elif (max_rgb == red and green >= blue): H = 60*((green - blue)/(max_rgb - min_rgb))\n",
    "            elif (max_rgb == red and green < blue): H = 60*((green - blue)/(max_rgb - min_rgb)) + 360\n",
    "            elif (max_rgb == green): H = 60*((blue - red)/(max_rgb - min_rgb)) + 120\n",
    "            elif (max_rgb == blue): H = 60*((red - green)/(max_rgb - min_rgb)) + 240\n",
    "\n",
    "            image[k][j] = (H + S + V)/3\n",
    "            \n",
    "    return image"
   ]
  },
  {
   "cell_type": "code",
   "execution_count": 50,
   "id": "352e8757",
   "metadata": {},
   "outputs": [
    {
     "name": "stdout",
     "output_type": "stream",
     "text": [
      "1\n"
     ]
    }
   ],
   "source": [
    "img_train_filter1 = gray_images_YCrCb(x_train, num_train)\n",
    "img_test_filter1 = gray_images_YCrCb(x_test, num_test)\n",
    "print(\"1\")"
   ]
  },
  {
   "cell_type": "code",
   "execution_count": 51,
   "id": "6a8957b3",
   "metadata": {},
   "outputs": [
    {
     "name": "stdout",
     "output_type": "stream",
     "text": [
      "2\n"
     ]
    }
   ],
   "source": [
    "img_train_filter2 = gray_images_HSI(x_train, num_train)\n",
    "img_test_filter2 = gray_images_HSI(x_test, num_test)\n",
    "print(\"2\")"
   ]
  },
  {
   "cell_type": "code",
   "execution_count": 63,
   "id": "20de921a",
   "metadata": {},
   "outputs": [],
   "source": [
    "os.makedirs('dataset/train/filter1', exist_ok=True)\n",
    "os.makedirs('dataset/train/filter2', exist_ok=True)\n",
    "os.makedirs('dataset/train/filter3', exist_ok=True)\n",
    "os.makedirs('dataset/train/filter4', exist_ok=True)\n",
    "os.makedirs('dataset/test/filter1_test', exist_ok=True)\n",
    "os.makedirs('dataset/test/filter2_test', exist_ok=True)\n",
    "os.makedirs('dataset/test/filter3_test', exist_ok=True)\n",
    "os.makedirs('dataset/test/filter4_test', exist_ok=True)\n",
    "os.makedirs('dataset/train/y_train', exist_ok=True)\n",
    "os.makedirs('dataset/test/y_test', exist_ok=True)"
   ]
  },
  {
   "cell_type": "code",
   "execution_count": 53,
   "id": "b0b2647f",
   "metadata": {},
   "outputs": [],
   "source": [
    "for i in range(len(img_train_filter1)):\n",
    "    cv2.imwrite(f'dataset/train/filter1/filter1_{i}.jpg', img_train_filter1[i])"
   ]
  },
  {
   "cell_type": "code",
   "execution_count": 54,
   "id": "26cb948e",
   "metadata": {},
   "outputs": [],
   "source": [
    "for i in range(len(img_train_filter2)):\n",
    "    cv2.imwrite(f'dataset/train/filter2/filter2_{i}.jpg', img_train_filter2[i])"
   ]
  },
  {
   "cell_type": "code",
   "execution_count": 56,
   "id": "8227c8ae",
   "metadata": {},
   "outputs": [
    {
     "name": "stderr",
     "output_type": "stream",
     "text": [
      "C:\\Users\\schir\\AppData\\Local\\Temp\\ipykernel_15952\\3192759219.py:44: RuntimeWarning: overflow encountered in ubyte_scalars\n",
      "  image[k][j] = (max_rgb+min_rgb)/2\n"
     ]
    }
   ],
   "source": [
    "pred_img = np.zeros((height, width), dtype=np.uint8)\n",
    "for i in range(len(x_train)):\n",
    "    img = gray_images_HSL(x_train[i], num_train)\n",
    "    if img.any() != pred_img.any():\n",
    "        cv2.imwrite(f'dataset/train/filter3/filter3_{i}.jpg', img)\n",
    "        pred_img = img\n",
    "    else:\n",
    "        cv2.imwrite(f'dataset/train/filter3/filter3_{i}.jpg', img_train_filter2[i])"
   ]
  },
  {
   "cell_type": "code",
   "execution_count": 67,
   "id": "331122d1",
   "metadata": {},
   "outputs": [],
   "source": [
    "pred_img = np.zeros((height, width), dtype=np.uint8)\n",
    "for i in range(len(x_train)):\n",
    "    img = gray_images_HSV(x_train[i], num_train)\n",
    "    if img.any() != pred_img.any():\n",
    "        cv2.imwrite(f'dataset/train/filter4/filter4_{i}.jpg', img)\n",
    "        pred_img = img\n",
    "    else:\n",
    "        cv2.imwrite(f'dataset/train/filter4/filter4_{i}.jpg', img_train_filter2[i])"
   ]
  },
  {
   "cell_type": "code",
   "execution_count": 68,
   "id": "f235b8ca",
   "metadata": {},
   "outputs": [],
   "source": [
    "for i in range(len(img_test_filter1)):\n",
    "    cv2.imwrite(f'dataset/test/filter1_test/filter1_{i}.jpg', img_test_filter1[i])"
   ]
  },
  {
   "cell_type": "code",
   "execution_count": 69,
   "id": "f7ee9242",
   "metadata": {},
   "outputs": [],
   "source": [
    "for i in range(len(img_test_filter2)):\n",
    "    cv2.imwrite(f'dataset/test/filter2_test/filter2_{i}.jpg', img_test_filter2[i])"
   ]
  },
  {
   "cell_type": "code",
   "execution_count": 66,
   "id": "7573edba",
   "metadata": {},
   "outputs": [
    {
     "name": "stderr",
     "output_type": "stream",
     "text": [
      "C:\\Users\\schir\\AppData\\Local\\Temp\\ipykernel_15952\\301644046.py:44: RuntimeWarning: overflow encountered in ubyte_scalars\n",
      "  image[k][j] = (max_rgb+min_rgb)/2\n"
     ]
    }
   ],
   "source": [
    "pred_img = np.zeros((height, width), dtype=np.uint8)\n",
    "for i in range(len(x_test)):\n",
    "    img = gray_images_HSL(x_test[i], num_test)\n",
    "    if img.any() != pred_img.any():\n",
    "        cv2.imwrite(f'dataset/test/filter3_test/filter3_{i}.jpg', img)\n",
    "        pred_img = img\n",
    "    else:\n",
    "        cv2.imwrite(f'dataset/test/filter3_test/filter3_{i}.jpg', img_test_filter2[i])"
   ]
  },
  {
   "cell_type": "code",
   "execution_count": 71,
   "id": "e2add4d9",
   "metadata": {},
   "outputs": [],
   "source": [
    "pred_img = np.zeros((height, width), dtype=np.uint8)\n",
    "for i in range(len(x_test)):\n",
    "    img = gray_images_HSV(x_test[i], num_test)\n",
    "    if img.any() != pred_img.any():\n",
    "        cv2.imwrite(f'dataset/test/filter4_test/filter4_{i}.jpg', img)\n",
    "        pred_img = img\n",
    "    else:\n",
    "        cv2.imwrite(f'dataset/test/filter4_test/filter4_{i}.jpg', img_test_filter2[i])"
   ]
  },
  {
   "cell_type": "code",
   "execution_count": 64,
   "id": "2c701ab3",
   "metadata": {},
   "outputs": [],
   "source": [
    "for i in range(len(x_train)):\n",
    "    cv2.imwrite(f'dataset/train/y_train/y_train{i}.jpg', x_train[i])\n",
    "for i in range(len(x_test)):\n",
    "    cv2.imwrite(f'dataset/test/y_test/y_test{i}.jpg', x_test[i])"
   ]
  },
  {
   "cell_type": "code",
   "execution_count": null,
   "id": "d5227769",
   "metadata": {},
   "outputs": [],
   "source": []
  }
 ],
 "metadata": {
  "kernelspec": {
   "display_name": "Python 3 (ipykernel)",
   "language": "python",
   "name": "python3"
  },
  "language_info": {
   "codemirror_mode": {
    "name": "ipython",
    "version": 3
   },
   "file_extension": ".py",
   "mimetype": "text/x-python",
   "name": "python",
   "nbconvert_exporter": "python",
   "pygments_lexer": "ipython3",
   "version": "3.10.9"
  }
 },
 "nbformat": 4,
 "nbformat_minor": 5
}
